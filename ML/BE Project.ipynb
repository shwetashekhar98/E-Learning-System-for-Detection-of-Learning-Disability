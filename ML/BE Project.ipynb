{
 "cells": [
  {
   "cell_type": "code",
   "execution_count": 1,
   "metadata": {},
   "outputs": [
    {
     "name": "stdout",
     "output_type": "stream",
     "text": [
      "    User  q_skip  revisits  pass1_dur  pass2_dur  quiz1_dur  quiz2_dur  \\\n",
      "0  g6_u1       4         2       2.16       3.55          1          1   \n",
      "1  g6_u2       7         5       2.21       1.44          2          1   \n",
      "2  g6_u3       4         1       4.34       4.52          4          2   \n",
      "3  g6_u4       5         2       4.42       5.33          3          3   \n",
      "4  g6_u5       1         2       4.55       3.36          4          3   \n",
      "\n",
      "   mathquiz_dur  unabl_pass_dir_q  unabl_pass_indir_q  unabl_des_pic  \\\n",
      "0             4                 0                   1              1   \n",
      "1             1                 0                   0              1   \n",
      "2             2                 1                   1              1   \n",
      "3             4                 0                   0              1   \n",
      "4             7                 1                   1              0   \n",
      "\n",
      "   unabl_des_topic  unabl_id_rel_words  unabl_sol_sim_math  \\\n",
      "0                1                   1                   1   \n",
      "1                1                   1                   1   \n",
      "2                0                   1                   0   \n",
      "3                1                   1                   0   \n",
      "4                1                   0                   1   \n",
      "\n",
      "   unabl_sol_com_math  unabl_per_car  sh_te_mem_lo  is_mis_prob  o/p_class  \n",
      "0                   1              1             1            1          1  \n",
      "1                   1              1             1            1          1  \n",
      "2                   1              1             1            0          1  \n",
      "3                   1              1             1            1          1  \n",
      "4                   1              1             1            1          1  \n"
     ]
    }
   ],
   "source": [
    "import pandas as pd\n",
    "import numpy as np\n",
    "import seaborn as sns\n",
    "import matplotlib.pyplot as plt\n",
    " \n",
    "df = pd.read_csv(r'BE Project Dataset v2.csv')\n",
    "print(df.head(5))"
   ]
  },
  {
   "cell_type": "code",
   "execution_count": 2,
   "metadata": {},
   "outputs": [
    {
     "name": "stdout",
     "output_type": "stream",
     "text": [
      "User                  0\n",
      "q_skip                0\n",
      "revisits              0\n",
      "pass1_dur             0\n",
      "pass2_dur             0\n",
      "quiz1_dur             0\n",
      "quiz2_dur             0\n",
      "mathquiz_dur          0\n",
      "unabl_pass_dir_q      0\n",
      "unabl_pass_indir_q    0\n",
      "unabl_des_pic         0\n",
      "unabl_des_topic       0\n",
      "unabl_id_rel_words    0\n",
      "unabl_sol_sim_math    0\n",
      "unabl_sol_com_math    0\n",
      "unabl_per_car         0\n",
      "sh_te_mem_lo          0\n",
      "is_mis_prob           0\n",
      "o/p_class             0\n",
      "dtype: int64\n"
     ]
    }
   ],
   "source": [
    "print(df.isnull().sum())"
   ]
  },
  {
   "cell_type": "code",
   "execution_count": 3,
   "metadata": {},
   "outputs": [],
   "source": [
    "from sklearn.model_selection import train_test_split\n",
    "from sklearn.linear_model import LogisticRegression\n",
    "\n",
    "x = df.drop(['User','o/p_class'], axis=1)\n",
    "y = df['o/p_class']\n",
    "x_train, x_test, y_train, y_test = train_test_split(x, y, test_size=0.20, random_state=0)\n",
    "\n",
    "lr = LogisticRegression()\n",
    "lr.fit(x_train, y_train)\n",
    "predictions = lr.predict(x_test)"
   ]
  },
  {
   "cell_type": "code",
   "execution_count": 4,
   "metadata": {},
   "outputs": [
    {
     "name": "stdout",
     "output_type": "stream",
     "text": [
      "Classification Report:\n",
      "\n",
      "             precision    recall  f1-score   support\n",
      "\n",
      "          0       0.83      1.00      0.91         5\n",
      "          1       1.00      0.80      0.89         5\n",
      "\n",
      "avg / total       0.92      0.90      0.90        10\n",
      "\n",
      "Confusion Matrix:\n",
      "[[5 0]\n",
      " [1 4]]\n",
      "\n",
      "Accuracy: 0.9\n"
     ]
    }
   ],
   "source": [
    "from sklearn.metrics import classification_report\n",
    "from sklearn.metrics import confusion_matrix,accuracy_score\n",
    "\n",
    "print(\"Classification Report:\\n\")\n",
    "print(classification_report(y_test, predictions))\n",
    "print(\"Confusion Matrix:\")\n",
    "print(confusion_matrix(y_test, predictions))\n",
    "print(\"\\nAccuracy:\",end=\" \")\n",
    "print(accuracy_score(y_test, predictions))"
   ]
  },
  {
   "cell_type": "code",
   "execution_count": 5,
   "metadata": {},
   "outputs": [
    {
     "name": "stdout",
     "output_type": "stream",
     "text": [
      "Class Prediction of unknown tuple 't1': [1]\n",
      "Class Prediction of unknown tuple 't2': [0]\n"
     ]
    }
   ],
   "source": [
    "t1 = [[7,5,4.23,5.12,6,4,3,0,1,1,1,1,0,0,0,1,1]]\n",
    "print(\"Class Prediction of unknown tuple 't1':\",end=\" \")\n",
    "print(lr.predict(t1))\n",
    "t2 = [[1,2,1.38,2.34,3.2,2.4,1.5,0,1,0,0,0,0,0,0,1,0]]\n",
    "print(\"Class Prediction of unknown tuple 't2':\",end=\" \")\n",
    "print(lr.predict(t2))"
   ]
  },
  {
   "cell_type": "code",
   "execution_count": 6,
   "metadata": {},
   "outputs": [],
   "source": [
    "from sklearn.svm import SVC\n",
    "svclassifier = SVC(kernel='linear')\n",
    "svclassifier.fit(x_train, y_train)\n",
    "y_pred = svclassifier.predict(x_test)"
   ]
  },
  {
   "cell_type": "code",
   "execution_count": 7,
   "metadata": {},
   "outputs": [
    {
     "name": "stdout",
     "output_type": "stream",
     "text": [
      "Classification Report:\n",
      "\n",
      "             precision    recall  f1-score   support\n",
      "\n",
      "          0       1.00      1.00      1.00         5\n",
      "          1       1.00      1.00      1.00         5\n",
      "\n",
      "avg / total       1.00      1.00      1.00        10\n",
      "\n",
      "Confusion Matrix:\n",
      "[[5 0]\n",
      " [0 5]]\n",
      "\n",
      "Accuracy: 1.0\n"
     ]
    }
   ],
   "source": [
    "print(\"Classification Report:\\n\")\n",
    "print(classification_report(y_test,y_pred))\n",
    "print(\"Confusion Matrix:\")\n",
    "print(confusion_matrix(y_test,y_pred))\n",
    "print(\"\\nAccuracy:\",end=\" \")\n",
    "print(accuracy_score(y_test, y_pred))"
   ]
  },
  {
   "cell_type": "code",
   "execution_count": 8,
   "metadata": {},
   "outputs": [
    {
     "data": {
      "text/plain": [
       "'from sklearn.feature_extraction import DictVectorizer\\nv = DictVectorizer(sparse=False)\\nx = v.fit_transform(x.to_dict(\\'records\\'))\\n\\nfrom sklearn import cross_validation\\ndata = cross_validation.KFold(len(x), n_folds=10, shuffle=True)\\nprint(len(x))\\nfor train_index, test_index in data:\\n    print(\"TRAIN:\", train_index, \"TEST:\", test_index)\\n    x_train, x_test = x[train_index], x[test_index]\\n    y_train, y_test = y[train_index], y[test_index]\\n    \\n    lr = LogisticRegression(C=1000.0, random_state=0)\\n    lr.fit(x_train, y_train)\\n\\n    predictions = lr.predict(x_test)\\n    print(classification_report(y_test, predictions))\\n    print(confusion_matrix(y_test, predictions))\\n    print(accuracy_score(y_test, predictions))'"
      ]
     },
     "execution_count": 8,
     "metadata": {},
     "output_type": "execute_result"
    }
   ],
   "source": [
    "\"\"\"from sklearn.feature_extraction import DictVectorizer\n",
    "v = DictVectorizer(sparse=False)\n",
    "x = v.fit_transform(x.to_dict('records'))\n",
    "\n",
    "from sklearn import cross_validation\n",
    "data = cross_validation.KFold(len(x), n_folds=10, shuffle=True)\n",
    "print(len(x))\n",
    "for train_index, test_index in data:\n",
    "    print(\"TRAIN:\", train_index, \"TEST:\", test_index)\n",
    "    x_train, x_test = x[train_index], x[test_index]\n",
    "    y_train, y_test = y[train_index], y[test_index]\n",
    "    \n",
    "    lr = LogisticRegression(C=1000.0, random_state=0)\n",
    "    lr.fit(x_train, y_train)\n",
    "\n",
    "    predictions = lr.predict(x_test)\n",
    "    print(classification_report(y_test, predictions))\n",
    "    print(confusion_matrix(y_test, predictions))\n",
    "    print(accuracy_score(y_test, predictions))\"\"\""
   ]
  }
 ],
 "metadata": {
  "kernelspec": {
   "display_name": "Python 3",
   "language": "python",
   "name": "python3"
  },
  "language_info": {
   "codemirror_mode": {
    "name": "ipython",
    "version": 3
   },
   "file_extension": ".py",
   "mimetype": "text/x-python",
   "name": "python",
   "nbconvert_exporter": "python",
   "pygments_lexer": "ipython3",
   "version": "3.6.5"
  }
 },
 "nbformat": 4,
 "nbformat_minor": 2
}
